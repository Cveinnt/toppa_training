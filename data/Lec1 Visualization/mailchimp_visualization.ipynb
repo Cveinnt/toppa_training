{
 "cells": [
  {
   "cell_type": "code",
   "execution_count": 1,
   "metadata": {},
   "outputs": [],
   "source": [
    "import numpy as np\n",
    "import pandas as pd\n",
    "import matplotlib\n",
    "import matplotlib.pyplot as plt\n",
    "from datetime import datetime\n",
    "\n",
    "# columns = ['Title', 'Subject', 'List', 'Send Date', 'Send Weekday', 'Total Recipients', 'Successful Deliveries',\n",
    "#          'Soft Bounces', 'Hard Bounces', 'Total Bounces', 'Unique Opens', 'Open Rate', 'Unique Clicks', 'Click Rate',\n",
    "#          'Total Clicks', 'Unsubscribes', 'Unique Id']\n",
    "#df = pd.read_csv('campaigns.csv', usecols = columns)\n",
    "# df.to_csv('data.csv')\n",
    "\n",
    "df = pd.read_csv('data.csv')"
   ]
  },
  {
   "cell_type": "code",
   "execution_count": 2,
   "metadata": {},
   "outputs": [
    {
     "data": {
      "text/html": [
       "<div>\n",
       "<style scoped>\n",
       "    .dataframe tbody tr th:only-of-type {\n",
       "        vertical-align: middle;\n",
       "    }\n",
       "\n",
       "    .dataframe tbody tr th {\n",
       "        vertical-align: top;\n",
       "    }\n",
       "\n",
       "    .dataframe thead th {\n",
       "        text-align: right;\n",
       "    }\n",
       "</style>\n",
       "<table border=\"1\" class=\"dataframe\">\n",
       "  <thead>\n",
       "    <tr style=\"text-align: right;\">\n",
       "      <th></th>\n",
       "      <th>Unnamed: 0</th>\n",
       "      <th>Title</th>\n",
       "      <th>Subject</th>\n",
       "      <th>List</th>\n",
       "      <th>Send Date</th>\n",
       "      <th>Send Weekday</th>\n",
       "      <th>Total Recipients</th>\n",
       "      <th>Successful Deliveries</th>\n",
       "      <th>Soft Bounces</th>\n",
       "      <th>Hard Bounces</th>\n",
       "      <th>Total Bounces</th>\n",
       "      <th>Unique Opens</th>\n",
       "      <th>Open Rate</th>\n",
       "      <th>Unique Clicks</th>\n",
       "      <th>Click Rate</th>\n",
       "      <th>Total Clicks</th>\n",
       "      <th>Unsubscribes</th>\n",
       "      <th>Unique Id</th>\n",
       "    </tr>\n",
       "  </thead>\n",
       "  <tbody>\n",
       "    <tr>\n",
       "      <th>0</th>\n",
       "      <td>0</td>\n",
       "      <td>Toppa @ Berkeley</td>\n",
       "      <td>Toppa Fall 2019 Recruitment  🎍</td>\n",
       "      <td>Toppa At Berkeley</td>\n",
       "      <td>Sep 01, 2019 04:46 pm</td>\n",
       "      <td>Sunday</td>\n",
       "      <td>1</td>\n",
       "      <td>1</td>\n",
       "      <td>0</td>\n",
       "      <td>0</td>\n",
       "      <td>0</td>\n",
       "      <td>1</td>\n",
       "      <td>100.00%</td>\n",
       "      <td>0</td>\n",
       "      <td>0.00%</td>\n",
       "      <td>0</td>\n",
       "      <td>0</td>\n",
       "      <td>d6cbeef4ae</td>\n",
       "    </tr>\n",
       "    <tr>\n",
       "      <th>1</th>\n",
       "      <td>1</td>\n",
       "      <td>Test Email</td>\n",
       "      <td>TEST EMAIL FROM TOPPA!</td>\n",
       "      <td>Toppa At Berkeley</td>\n",
       "      <td>Sep 02, 2019 12:08 pm</td>\n",
       "      <td>Monday</td>\n",
       "      <td>13</td>\n",
       "      <td>13</td>\n",
       "      <td>0</td>\n",
       "      <td>0</td>\n",
       "      <td>0</td>\n",
       "      <td>12</td>\n",
       "      <td>92.31%</td>\n",
       "      <td>2</td>\n",
       "      <td>15.38%</td>\n",
       "      <td>2</td>\n",
       "      <td>0</td>\n",
       "      <td>3bd5df2615</td>\n",
       "    </tr>\n",
       "    <tr>\n",
       "      <th>2</th>\n",
       "      <td>2</td>\n",
       "      <td>[Toppa @ Berkeley] Welcome Back &amp; Toppa tablin...</td>\n",
       "      <td>[Toppa @ Berkeley] Welcome Back + Toppa tablin...</td>\n",
       "      <td>Toppa At Berkeley</td>\n",
       "      <td>Sep 03, 2019 07:43 pm</td>\n",
       "      <td>Tuesday</td>\n",
       "      <td>22</td>\n",
       "      <td>22</td>\n",
       "      <td>0</td>\n",
       "      <td>0</td>\n",
       "      <td>0</td>\n",
       "      <td>22</td>\n",
       "      <td>100.00%</td>\n",
       "      <td>14</td>\n",
       "      <td>63.64%</td>\n",
       "      <td>39</td>\n",
       "      <td>0</td>\n",
       "      <td>672d213b86</td>\n",
       "    </tr>\n",
       "    <tr>\n",
       "      <th>3</th>\n",
       "      <td>3</td>\n",
       "      <td>Toppa Info Session Reminder</td>\n",
       "      <td>[Toppa @ Berkeley] Info Session Reminder!</td>\n",
       "      <td>Toppa At Berkeley</td>\n",
       "      <td>Sep 06, 2019 02:49 pm</td>\n",
       "      <td>Friday</td>\n",
       "      <td>178</td>\n",
       "      <td>177</td>\n",
       "      <td>0</td>\n",
       "      <td>1</td>\n",
       "      <td>1</td>\n",
       "      <td>162</td>\n",
       "      <td>91.53%</td>\n",
       "      <td>34</td>\n",
       "      <td>19.21%</td>\n",
       "      <td>46</td>\n",
       "      <td>1</td>\n",
       "      <td>94bc01fb0f</td>\n",
       "    </tr>\n",
       "    <tr>\n",
       "      <th>4</th>\n",
       "      <td>4</td>\n",
       "      <td>Toppa Fall 2019 Application</td>\n",
       "      <td>[Toppa @ Berkeley] Mentee Application is Now O...</td>\n",
       "      <td>Toppa At Berkeley</td>\n",
       "      <td>Sep 07, 2019 08:40 pm</td>\n",
       "      <td>Saturday</td>\n",
       "      <td>217</td>\n",
       "      <td>217</td>\n",
       "      <td>0</td>\n",
       "      <td>0</td>\n",
       "      <td>0</td>\n",
       "      <td>194</td>\n",
       "      <td>89.40%</td>\n",
       "      <td>61</td>\n",
       "      <td>28.11%</td>\n",
       "      <td>82</td>\n",
       "      <td>1</td>\n",
       "      <td>3fc060ae23</td>\n",
       "    </tr>\n",
       "  </tbody>\n",
       "</table>\n",
       "</div>"
      ],
      "text/plain": [
       "   Unnamed: 0                                              Title  \\\n",
       "0           0                                   Toppa @ Berkeley   \n",
       "1           1                                         Test Email   \n",
       "2           2  [Toppa @ Berkeley] Welcome Back & Toppa tablin...   \n",
       "3           3                        Toppa Info Session Reminder   \n",
       "4           4                        Toppa Fall 2019 Application   \n",
       "\n",
       "                                             Subject               List  \\\n",
       "0                     Toppa Fall 2019 Recruitment  🎍  Toppa At Berkeley   \n",
       "1                             TEST EMAIL FROM TOPPA!  Toppa At Berkeley   \n",
       "2  [Toppa @ Berkeley] Welcome Back + Toppa tablin...  Toppa At Berkeley   \n",
       "3          [Toppa @ Berkeley] Info Session Reminder!  Toppa At Berkeley   \n",
       "4  [Toppa @ Berkeley] Mentee Application is Now O...  Toppa At Berkeley   \n",
       "\n",
       "               Send Date Send Weekday  Total Recipients  \\\n",
       "0  Sep 01, 2019 04:46 pm       Sunday                 1   \n",
       "1  Sep 02, 2019 12:08 pm       Monday                13   \n",
       "2  Sep 03, 2019 07:43 pm      Tuesday                22   \n",
       "3  Sep 06, 2019 02:49 pm       Friday               178   \n",
       "4  Sep 07, 2019 08:40 pm     Saturday               217   \n",
       "\n",
       "   Successful Deliveries  Soft Bounces  Hard Bounces  Total Bounces  \\\n",
       "0                      1             0             0              0   \n",
       "1                     13             0             0              0   \n",
       "2                     22             0             0              0   \n",
       "3                    177             0             1              1   \n",
       "4                    217             0             0              0   \n",
       "\n",
       "   Unique Opens Open Rate  Unique Clicks Click Rate  Total Clicks  \\\n",
       "0             1   100.00%              0      0.00%             0   \n",
       "1            12    92.31%              2     15.38%             2   \n",
       "2            22   100.00%             14     63.64%            39   \n",
       "3           162    91.53%             34     19.21%            46   \n",
       "4           194    89.40%             61     28.11%            82   \n",
       "\n",
       "   Unsubscribes   Unique Id  \n",
       "0             0  d6cbeef4ae  \n",
       "1             0  3bd5df2615  \n",
       "2             0  672d213b86  \n",
       "3             1  94bc01fb0f  \n",
       "4             1  3fc060ae23  "
      ]
     },
     "execution_count": 2,
     "metadata": {},
     "output_type": "execute_result"
    }
   ],
   "source": [
    "df.head()"
   ]
  },
  {
   "cell_type": "markdown",
   "metadata": {},
   "source": [
    "# Preprocessing: Dropping unwanted columns"
   ]
  },
  {
   "cell_type": "code",
   "execution_count": 3,
   "metadata": {},
   "outputs": [],
   "source": [
    "# Drop the first column\n",
    "df = df.drop(df.columns[[0]], axis=1)\n",
    "# Drop column by name\n",
    "df = df.drop(columns='Title')"
   ]
  },
  {
   "cell_type": "code",
   "execution_count": 4,
   "metadata": {},
   "outputs": [
    {
     "data": {
      "text/html": [
       "<div>\n",
       "<style scoped>\n",
       "    .dataframe tbody tr th:only-of-type {\n",
       "        vertical-align: middle;\n",
       "    }\n",
       "\n",
       "    .dataframe tbody tr th {\n",
       "        vertical-align: top;\n",
       "    }\n",
       "\n",
       "    .dataframe thead th {\n",
       "        text-align: right;\n",
       "    }\n",
       "</style>\n",
       "<table border=\"1\" class=\"dataframe\">\n",
       "  <thead>\n",
       "    <tr style=\"text-align: right;\">\n",
       "      <th></th>\n",
       "      <th>Subject</th>\n",
       "      <th>List</th>\n",
       "      <th>Send Date</th>\n",
       "      <th>Send Weekday</th>\n",
       "      <th>Total Recipients</th>\n",
       "      <th>Successful Deliveries</th>\n",
       "      <th>Soft Bounces</th>\n",
       "      <th>Hard Bounces</th>\n",
       "      <th>Total Bounces</th>\n",
       "      <th>Unique Opens</th>\n",
       "      <th>Open Rate</th>\n",
       "      <th>Unique Clicks</th>\n",
       "      <th>Click Rate</th>\n",
       "      <th>Total Clicks</th>\n",
       "      <th>Unsubscribes</th>\n",
       "      <th>Unique Id</th>\n",
       "    </tr>\n",
       "  </thead>\n",
       "  <tbody>\n",
       "    <tr>\n",
       "      <th>0</th>\n",
       "      <td>Toppa Fall 2019 Recruitment  🎍</td>\n",
       "      <td>Toppa At Berkeley</td>\n",
       "      <td>Sep 01, 2019 04:46 pm</td>\n",
       "      <td>Sunday</td>\n",
       "      <td>1</td>\n",
       "      <td>1</td>\n",
       "      <td>0</td>\n",
       "      <td>0</td>\n",
       "      <td>0</td>\n",
       "      <td>1</td>\n",
       "      <td>100.00%</td>\n",
       "      <td>0</td>\n",
       "      <td>0.00%</td>\n",
       "      <td>0</td>\n",
       "      <td>0</td>\n",
       "      <td>d6cbeef4ae</td>\n",
       "    </tr>\n",
       "    <tr>\n",
       "      <th>1</th>\n",
       "      <td>TEST EMAIL FROM TOPPA!</td>\n",
       "      <td>Toppa At Berkeley</td>\n",
       "      <td>Sep 02, 2019 12:08 pm</td>\n",
       "      <td>Monday</td>\n",
       "      <td>13</td>\n",
       "      <td>13</td>\n",
       "      <td>0</td>\n",
       "      <td>0</td>\n",
       "      <td>0</td>\n",
       "      <td>12</td>\n",
       "      <td>92.31%</td>\n",
       "      <td>2</td>\n",
       "      <td>15.38%</td>\n",
       "      <td>2</td>\n",
       "      <td>0</td>\n",
       "      <td>3bd5df2615</td>\n",
       "    </tr>\n",
       "    <tr>\n",
       "      <th>2</th>\n",
       "      <td>[Toppa @ Berkeley] Welcome Back + Toppa tablin...</td>\n",
       "      <td>Toppa At Berkeley</td>\n",
       "      <td>Sep 03, 2019 07:43 pm</td>\n",
       "      <td>Tuesday</td>\n",
       "      <td>22</td>\n",
       "      <td>22</td>\n",
       "      <td>0</td>\n",
       "      <td>0</td>\n",
       "      <td>0</td>\n",
       "      <td>22</td>\n",
       "      <td>100.00%</td>\n",
       "      <td>14</td>\n",
       "      <td>63.64%</td>\n",
       "      <td>39</td>\n",
       "      <td>0</td>\n",
       "      <td>672d213b86</td>\n",
       "    </tr>\n",
       "    <tr>\n",
       "      <th>3</th>\n",
       "      <td>[Toppa @ Berkeley] Info Session Reminder!</td>\n",
       "      <td>Toppa At Berkeley</td>\n",
       "      <td>Sep 06, 2019 02:49 pm</td>\n",
       "      <td>Friday</td>\n",
       "      <td>178</td>\n",
       "      <td>177</td>\n",
       "      <td>0</td>\n",
       "      <td>1</td>\n",
       "      <td>1</td>\n",
       "      <td>162</td>\n",
       "      <td>91.53%</td>\n",
       "      <td>34</td>\n",
       "      <td>19.21%</td>\n",
       "      <td>46</td>\n",
       "      <td>1</td>\n",
       "      <td>94bc01fb0f</td>\n",
       "    </tr>\n",
       "    <tr>\n",
       "      <th>4</th>\n",
       "      <td>[Toppa @ Berkeley] Mentee Application is Now O...</td>\n",
       "      <td>Toppa At Berkeley</td>\n",
       "      <td>Sep 07, 2019 08:40 pm</td>\n",
       "      <td>Saturday</td>\n",
       "      <td>217</td>\n",
       "      <td>217</td>\n",
       "      <td>0</td>\n",
       "      <td>0</td>\n",
       "      <td>0</td>\n",
       "      <td>194</td>\n",
       "      <td>89.40%</td>\n",
       "      <td>61</td>\n",
       "      <td>28.11%</td>\n",
       "      <td>82</td>\n",
       "      <td>1</td>\n",
       "      <td>3fc060ae23</td>\n",
       "    </tr>\n",
       "  </tbody>\n",
       "</table>\n",
       "</div>"
      ],
      "text/plain": [
       "                                             Subject               List  \\\n",
       "0                     Toppa Fall 2019 Recruitment  🎍  Toppa At Berkeley   \n",
       "1                             TEST EMAIL FROM TOPPA!  Toppa At Berkeley   \n",
       "2  [Toppa @ Berkeley] Welcome Back + Toppa tablin...  Toppa At Berkeley   \n",
       "3          [Toppa @ Berkeley] Info Session Reminder!  Toppa At Berkeley   \n",
       "4  [Toppa @ Berkeley] Mentee Application is Now O...  Toppa At Berkeley   \n",
       "\n",
       "               Send Date Send Weekday  Total Recipients  \\\n",
       "0  Sep 01, 2019 04:46 pm       Sunday                 1   \n",
       "1  Sep 02, 2019 12:08 pm       Monday                13   \n",
       "2  Sep 03, 2019 07:43 pm      Tuesday                22   \n",
       "3  Sep 06, 2019 02:49 pm       Friday               178   \n",
       "4  Sep 07, 2019 08:40 pm     Saturday               217   \n",
       "\n",
       "   Successful Deliveries  Soft Bounces  Hard Bounces  Total Bounces  \\\n",
       "0                      1             0             0              0   \n",
       "1                     13             0             0              0   \n",
       "2                     22             0             0              0   \n",
       "3                    177             0             1              1   \n",
       "4                    217             0             0              0   \n",
       "\n",
       "   Unique Opens Open Rate  Unique Clicks Click Rate  Total Clicks  \\\n",
       "0             1   100.00%              0      0.00%             0   \n",
       "1            12    92.31%              2     15.38%             2   \n",
       "2            22   100.00%             14     63.64%            39   \n",
       "3           162    91.53%             34     19.21%            46   \n",
       "4           194    89.40%             61     28.11%            82   \n",
       "\n",
       "   Unsubscribes   Unique Id  \n",
       "0             0  d6cbeef4ae  \n",
       "1             0  3bd5df2615  \n",
       "2             0  672d213b86  \n",
       "3             1  94bc01fb0f  \n",
       "4             1  3fc060ae23  "
      ]
     },
     "execution_count": 4,
     "metadata": {},
     "output_type": "execute_result"
    }
   ],
   "source": [
    "df.head()"
   ]
  },
  {
   "cell_type": "markdown",
   "metadata": {},
   "source": [
    "# Visualization: Plotting the growth of email list with Bar plot"
   ]
  },
  {
   "cell_type": "code",
   "execution_count": 5,
   "metadata": {},
   "outputs": [
    {
     "data": {
      "image/png": "[encoded data removed]",
      "text/plain": [
       "<Figure size 432x288 with 1 Axes>"
      ]
     },
     "metadata": {
      "needs_background": "light"
     },
     "output_type": "display_data"
    }
   ],
   "source": [
    "# Plot displaying growth of our email list\n",
    "df.plot(kind='bar',x='Send Date',y='Total Recipients')\n",
    "plt.show()"
   ]
  },
  {
   "cell_type": "markdown",
   "metadata": {},
   "source": [
    "## Converting Dates\n",
    "The date format from the above plot does not look very good. Let's convert it."
   ]
  },
  {
   "cell_type": "raw",
   "metadata": {},
   "source": [
    "A Cheatsheet for strptime\n",
    "Code\tMeaning\tExample\n",
    "%A\tWeekday as locale’s full name.\tWednesday\n",
    "%a\tWeekday as locale’s abbreviated name.\tWed\n",
    "%B\tMonth as locale’s full name.\tJune\n",
    "%d\tDay of the month.\t06\n",
    "%M  Minute\n",
    "%I  Hour, in 12 hour format\n",
    "%m\tMonth as a number.\t6\n",
    "%Y\tFour-digit year.\t2018\n",
    "%y\tTwo-digit year.\t18"
   ]
  },
  {
   "cell_type": "code",
   "execution_count": 6,
   "metadata": {},
   "outputs": [
    {
     "data": {
      "text/plain": [
       "'September 01, 2019 04:46'"
      ]
     },
     "execution_count": 6,
     "metadata": {},
     "output_type": "execute_result"
    }
   ],
   "source": [
    "df['Send Date'] = df['Send Date'].str.replace('Sep', 'September')\n",
    "df['Send Date'] = df['Send Date'].map(lambda x: x.rstrip(' pm'))\n",
    "s = df['Send Date'][0]\n",
    "s"
   ]
  },
  {
   "cell_type": "code",
   "execution_count": 7,
   "metadata": {},
   "outputs": [
    {
     "data": {
      "text/plain": [
       "datetime.datetime(2019, 9, 1, 4, 46)"
      ]
     },
     "execution_count": 7,
     "metadata": {},
     "output_type": "execute_result"
    }
   ],
   "source": [
    "date = datetime.strptime(s, '%B %d, %Y %I:%M')\n",
    "date"
   ]
  },
  {
   "cell_type": "code",
   "execution_count": 8,
   "metadata": {},
   "outputs": [
    {
     "data": {
      "text/plain": [
       "0   2019-09-01 04:46:00\n",
       "1   2019-09-02 00:08:00\n",
       "2   2019-09-03 07:43:00\n",
       "3   2019-09-06 02:49:00\n",
       "4   2019-09-07 08:40:00\n",
       "5   2019-09-10 05:42:00\n",
       "6   2019-09-11 07:40:00\n",
       "7   2019-09-12 11:06:00\n",
       "Name: Send Date, dtype: datetime64[ns]"
      ]
     },
     "execution_count": 8,
     "metadata": {},
     "output_type": "execute_result"
    }
   ],
   "source": [
    "df['Send Date'] = df['Send Date'].map(lambda x: pd.to_datetime(\n",
    "    x, format='%B %d, %Y %I:%M', errors='ignore'))\n",
    "df['Send Date']"
   ]
  },
  {
   "cell_type": "code",
   "execution_count": 9,
   "metadata": {},
   "outputs": [],
   "source": [
    "df['Date'] = df['Send Date'].map(lambda x: x.strftime(\"%Y-%m-%d\"))\n",
    "df['Send Time'] = df['Send Date'].map(lambda x: x.strftime(\"%H:%M:%S\"))"
   ]
  },
  {
   "cell_type": "code",
   "execution_count": 10,
   "metadata": {},
   "outputs": [
    {
     "name": "stdout",
     "output_type": "stream",
     "text": [
      "0    2019-09-01\n",
      "1    2019-09-02\n",
      "2    2019-09-03\n",
      "3    2019-09-06\n",
      "4    2019-09-07\n",
      "5    2019-09-10\n",
      "6    2019-09-11\n",
      "7    2019-09-12\n",
      "Name: Date, dtype: object\n",
      "0    04:46:00\n",
      "1    00:08:00\n",
      "2    07:43:00\n",
      "3    02:49:00\n",
      "4    08:40:00\n",
      "5    05:42:00\n",
      "6    07:40:00\n",
      "7    11:06:00\n",
      "Name: Send Time, dtype: object\n"
     ]
    }
   ],
   "source": [
    "print(df['Date'])\n",
    "print(df['Send Time'])"
   ]
  },
  {
   "cell_type": "markdown",
   "metadata": {},
   "source": [
    "# Plotting Audience Growth"
   ]
  },
  {
   "cell_type": "code",
   "execution_count": 11,
   "metadata": {},
   "outputs": [
    {
     "data": {
      "image/png": "[encoded data removed]",
      "text/plain": [
       "<Figure size 432x288 with 1 Axes>"
      ]
     },
     "metadata": {
      "needs_background": "light"
     },
     "output_type": "display_data"
    }
   ],
   "source": [
    "df.plot(kind='bar', x='Date', y='Total Recipients')\n",
    "plt.show()"
   ]
  },
  {
   "cell_type": "code",
   "execution_count": 12,
   "metadata": {},
   "outputs": [
    {
     "data": {
      "image/png": "[encoded data removed]",
      "text/plain": [
       "<Figure size 432x288 with 1 Axes>"
      ]
     },
     "metadata": {
      "needs_background": "light"
     },
     "output_type": "display_data"
    }
   ],
   "source": [
    "df.plot(x='Date', y='Total Recipients')\n",
    "plt.show()"
   ]
  },
  {
   "cell_type": "markdown",
   "metadata": {},
   "source": [
    "# Plotting Open Rates"
   ]
  },
  {
   "cell_type": "code",
   "execution_count": 13,
   "metadata": {},
   "outputs": [
    {
     "data": {
      "text/plain": [
       "0    100.00%\n",
       "1     92.31%\n",
       "2    100.00%\n",
       "3     91.53%\n",
       "4     89.40%\n",
       "5     83.87%\n",
       "6     81.02%\n",
       "7     85.38%\n",
       "Name: Open Rate, dtype: object"
      ]
     },
     "execution_count": 13,
     "metadata": {},
     "output_type": "execute_result"
    }
   ],
   "source": [
    "df['Open Rate']"
   ]
  },
  {
   "cell_type": "code",
   "execution_count": 14,
   "metadata": {},
   "outputs": [
    {
     "data": {
      "text/plain": [
       "0    100.00\n",
       "1     92.31\n",
       "2    100.00\n",
       "3     91.53\n",
       "4     89.40\n",
       "5     83.87\n",
       "6     81.02\n",
       "7     85.38\n",
       "Name: Open Rate, dtype: float64"
      ]
     },
     "execution_count": 14,
     "metadata": {},
     "output_type": "execute_result"
    }
   ],
   "source": [
    "df['Open Rate'] = df['Open Rate'].map(lambda x: x.rstrip('%'))\n",
    "df['Open Rate'] = df['Open Rate'].astype(float)\n",
    "df['Open Rate']"
   ]
  },
  {
   "cell_type": "code",
   "execution_count": 15,
   "metadata": {},
   "outputs": [
    {
     "data": {
      "image/png": "[encoded data removed]",
      "text/plain": [
       "<Figure size 432x288 with 1 Axes>"
      ]
     },
     "metadata": {
      "needs_background": "light"
     },
     "output_type": "display_data"
    },
    {
     "data": {
      "image/png": "[encoded data removed]",
      "text/plain": [
       "<Figure size 432x288 with 1 Axes>"
      ]
     },
     "metadata": {
      "needs_background": "light"
     },
     "output_type": "display_data"
    }
   ],
   "source": [
    "df.plot(kind = 'line', x = 'Date', y = 'Open Rate')\n",
    "df.plot(kind = 'bar', x = 'Date', y = 'Open Rate')\n",
    "plt.show()"
   ]
  },
  {
   "cell_type": "code",
   "execution_count": 16,
   "metadata": {},
   "outputs": [
    {
     "name": "stderr",
     "output_type": "stream",
     "text": [
      "/Library/Frameworks/Python.framework/Versions/3.7/lib/python3.7/site-packages/matplotlib/figure.py:445: UserWarning: Matplotlib is currently using module://ipykernel.pylab.backend_inline, which is a non-GUI backend, so cannot show the figure.\n",
      "  % get_backend())\n"
     ]
    },
    {
     "data": {
      "image/png": "[encoded data removed]",
      "text/plain": [
       "<Figure size 432x288 with 1 Axes>"
      ]
     },
     "metadata": {
      "needs_background": "light"
     },
     "output_type": "display_data"
    }
   ],
   "source": [
    "fig, ax = plt.subplots(1)\n",
    "df.plot(x = 'Date', y = 'Open Rate', ax=ax)\n",
    "df.plot(kind = 'bar', x = 'Date', y = 'Open Rate', ax=ax)\n",
    "fig.show()"
   ]
  },
  {
   "cell_type": "markdown",
   "metadata": {},
   "source": [
    "# Correlation Analysis: Click Rate & Open Rate"
   ]
  },
  {
   "cell_type": "code",
   "execution_count": 17,
   "metadata": {},
   "outputs": [
    {
     "data": {
      "text/plain": [
       "0     0.00%\n",
       "1    15.38%\n",
       "2    63.64%\n",
       "3    19.21%\n",
       "4    28.11%\n",
       "5    19.82%\n",
       "6    11.11%\n",
       "7    25.00%\n",
       "Name: Click Rate, dtype: object"
      ]
     },
     "execution_count": 17,
     "metadata": {},
     "output_type": "execute_result"
    }
   ],
   "source": [
    "df['Click Rate']"
   ]
  },
  {
   "cell_type": "code",
   "execution_count": 18,
   "metadata": {},
   "outputs": [
    {
     "data": {
      "text/plain": [
       "0     0.00\n",
       "1    15.38\n",
       "2    63.64\n",
       "3    19.21\n",
       "4    28.11\n",
       "5    19.82\n",
       "6    11.11\n",
       "7    25.00\n",
       "Name: Click Rate, dtype: float64"
      ]
     },
     "execution_count": 18,
     "metadata": {},
     "output_type": "execute_result"
    }
   ],
   "source": [
    "df['Click Rate'] = df['Click Rate'].map(lambda x: x.rstrip('%'))\n",
    "df['Click Rate'] = df['Click Rate'].astype(float)\n",
    "df['Click Rate']"
   ]
  },
  {
   "cell_type": "code",
   "execution_count": 19,
   "metadata": {},
   "outputs": [
    {
     "data": {
      "image/png": "[encoded data removed]",
      "text/plain": [
       "<Figure size 432x288 with 1 Axes>"
      ]
     },
     "metadata": {
      "needs_background": "light"
     },
     "output_type": "display_data"
    }
   ],
   "source": [
    "df.plot(kind = 'scatter', x = 'Open Rate', y = 'Click Rate')\n",
    "plt.show()"
   ]
  },
  {
   "cell_type": "markdown",
   "metadata": {},
   "source": [
    "# Regression on Open Rate and Click Rate"
   ]
  },
  {
   "cell_type": "markdown",
   "metadata": {},
   "source": [
    "## Preparing the data & Preprocessing the data"
   ]
  },
  {
   "cell_type": "code",
   "execution_count": 20,
   "metadata": {},
   "outputs": [],
   "source": [
    "X = np.array(df[\"Open Rate\"]).reshape(-1,1)\n",
    "y = np.array(df[\"Click Rate\"]).reshape(-1,1)"
   ]
  },
  {
   "cell_type": "code",
   "execution_count": 21,
   "metadata": {},
   "outputs": [
    {
     "name": "stdout",
     "output_type": "stream",
     "text": [
      "X: [[100.  ]\n",
      " [ 92.31]\n",
      " [100.  ]\n",
      " [ 91.53]\n",
      " [ 89.4 ]\n",
      " [ 83.87]\n",
      " [ 81.02]\n",
      " [ 85.38]]\n",
      "y: [[ 0.  ]\n",
      " [15.38]\n",
      " [63.64]\n",
      " [19.21]\n",
      " [28.11]\n",
      " [19.82]\n",
      " [11.11]\n",
      " [25.  ]]\n"
     ]
    }
   ],
   "source": [
    "print('X:', X)\n",
    "print('y:', y)"
   ]
  },
  {
   "cell_type": "markdown",
   "metadata": {},
   "source": [
    "## Defining Our Regression Models\n",
    "### Here, I used OLS and Ridge Regressions"
   ]
  },
  {
   "cell_type": "code",
   "execution_count": 22,
   "metadata": {},
   "outputs": [],
   "source": [
    "from sklearn import linear_model\n",
    "from sklearn.metrics import mean_squared_error, r2_score\n",
    "\n",
    "\n",
    "def regression(X, y, a=1):\n",
    "    ols = linear_model.LinearRegression()\n",
    "    ridge = linear_model.Ridge(alpha=a)\n",
    "\n",
    "    model_ols = ols.fit(X, y)\n",
    "    model_ridge = ridge.fit(X, y)\n",
    "\n",
    "    ols_pred = model_ols.predict(X)\n",
    "    ridge_pred = model_ridge.predict(X)\n",
    "\n",
    "    # The coefficients\n",
    "    print('OLS Coefficients: \\n', model_ols.coef_)\n",
    "    print('Ridge Coefficients: \\n', model_ridge.coef_)\n",
    "\n",
    "    # The mean squared error\n",
    "    print(\"OLS Mean squared error: %.2f\" % mean_squared_error(y, ols_pred))\n",
    "    print(\"Ridge Mean squared error: %.2f\" % mean_squared_error(y, ridge_pred))\n",
    "\n",
    "    # Explained variance score: 1 is perfect prediction\n",
    "    print('OLD Variance score: %.2f' % r2_score(y, ols_pred))\n",
    "    print('Ridge Variance score: %.2f' % r2_score(y, ridge_pred))\n",
    "\n",
    "    # Plot outputs\n",
    "    plt.scatter(X, y,  color='black')\n",
    "    plt.plot(X, ols_pred, color='blue', linewidth=3)\n",
    "    plt.plot(X, ridge_pred, color='red', linewidth=3)\n",
    "    plt.legend([\"OLS\", \"Ridge\"])\n",
    "\n",
    "    plt.show()"
   ]
  },
  {
   "cell_type": "code",
   "execution_count": 23,
   "metadata": {},
   "outputs": [
    {
     "name": "stdout",
     "output_type": "stream",
     "text": [
      "OLS Coefficients: \n",
      " [[0.77361947]]\n",
      "Ridge Coefficients: \n",
      " [[0.75189217]]\n",
      "OLS Mean squared error: 278.39\n",
      "Ridge Mean squared error: 278.41\n",
      "OLD Variance score: 0.09\n",
      "Ridge Variance score: 0.09\n"
     ]
    },
    {
     "name": "stderr",
     "output_type": "stream",
     "text": [
      "/Library/Frameworks/Python.framework/Versions/3.7/lib/python3.7/site-packages/sklearn/linear_model/base.py:485: RuntimeWarning: internal gelsd driver lwork query error, required iwork dimension not returned. This is likely the result of LAPACK bug 0038, fixed in LAPACK 3.2.2 (released July 21, 2010). Falling back to 'gelss' driver.\n",
      "  linalg.lstsq(X, y)\n"
     ]
    },
    {
     "data": {
      "image/png": "[encoded data removed]",
      "text/plain": [
       "<Figure size 432x288 with 1 Axes>"
      ]
     },
     "metadata": {
      "needs_background": "light"
     },
     "output_type": "display_data"
    }
   ],
   "source": [
    "regression(X,y,a=10)"
   ]
  },
  {
   "cell_type": "markdown",
   "metadata": {},
   "source": [
    "Our model does not seem to capture the linear relationship well.  \n",
    "One reason would be the data point (100.0, 0.0), an outlier that affects the model outcome.  \n",
    "Another would be the scarcity of our training data.\n",
    "\n",
    "Solution: \n",
    "Take out the outlier"
   ]
  },
  {
   "cell_type": "code",
   "execution_count": 24,
   "metadata": {},
   "outputs": [
    {
     "name": "stdout",
     "output_type": "stream",
     "text": [
      "X: [[ 92.31]\n",
      " [100.  ]\n",
      " [ 91.53]\n",
      " [ 89.4 ]\n",
      " [ 83.87]\n",
      " [ 81.02]\n",
      " [ 85.38]]\n",
      "y: [[15.38]\n",
      " [63.64]\n",
      " [19.21]\n",
      " [28.11]\n",
      " [19.82]\n",
      " [11.11]\n",
      " [25.  ]]\n"
     ]
    }
   ],
   "source": [
    "X = np.array(df[\"Open Rate\"])\n",
    "y = np.array(df[\"Click Rate\"])\n",
    "\n",
    "#Delete abnormal data\n",
    "X = np.delete(X, 0).reshape(-1,1)\n",
    "y = np.delete(y, 0).reshape(-1,1)\n",
    "\n",
    "print('X:', X)\n",
    "print('y:', y)"
   ]
  },
  {
   "cell_type": "code",
   "execution_count": 25,
   "metadata": {},
   "outputs": [
    {
     "name": "stdout",
     "output_type": "stream",
     "text": [
      "OLS Coefficients: \n",
      " [[2.13873553]]\n",
      "Ridge Coefficients: \n",
      " [[1.51260816]]\n",
      "OLS Mean squared error: 105.14\n",
      "Ridge Mean squared error: 118.67\n",
      "OLD Variance score: 0.60\n",
      "Ridge Variance score: 0.55\n"
     ]
    },
    {
     "data": {
      "image/png": "[encoded data removed]",
      "text/plain": [
       "<Figure size 432x288 with 1 Axes>"
      ]
     },
     "metadata": {
      "needs_background": "light"
     },
     "output_type": "display_data"
    }
   ],
   "source": [
    "regression(X,y,a=100)"
   ]
  },
  {
   "cell_type": "code",
   "execution_count": null,
   "metadata": {},
   "outputs": [],
   "source": [
    "from pandas import"
   ]
  }
 ],
 "metadata": {
  "kernelspec": {
   "display_name": "Python 3",
   "language": "python",
   "name": "python3"
  },
  "language_info": {
   "codemirror_mode": {
    "name": "ipython",
    "version": 3
   },
   "file_extension": ".py",
   "mimetype": "text/x-python",
   "name": "python",
   "nbconvert_exporter": "python",
   "pygments_lexer": "ipython3",
   "version": "3.7.1"
  }
 },
 "nbformat": 4,
 "nbformat_minor": 2
}

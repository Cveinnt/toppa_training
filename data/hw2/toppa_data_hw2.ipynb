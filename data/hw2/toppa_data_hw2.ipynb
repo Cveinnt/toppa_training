{
 "cells": [
  {
   "cell_type": "markdown",
   "metadata": {},
   "source": [
    "### Toppa @ Berkeley 2019 Data Team Homework 2\n",
    "The dataset used for this homework is selected from FiveThirtyEight's Russian troll tweets dataset.  \n",
    "Your task is to fill out all the places marked with #TODO.  \n",
    "\n",
    "\n",
    "Author: Vincent  \n",
    "Your name:  "
   ]
  },
  {
   "cell_type": "code",
   "execution_count": 1,
   "metadata": {},
   "outputs": [],
   "source": [
    "import numpy as np\n",
    "import pandas as pd\n",
    "import nltk\n",
    "import sklearn\n",
    "from matplotlib import pyplot as plt\n",
    "import re\n",
    "\n",
    "data = pd.read_csv('data.csv')\n",
    "data = data.drop(columns=['Unnamed: 0'])"
   ]
  },
  {
   "cell_type": "code",
   "execution_count": 2,
   "metadata": {},
   "outputs": [
    {
     "data": {
      "text/html": [
       "<div>\n",
       "<style scoped>\n",
       "    .dataframe tbody tr th:only-of-type {\n",
       "        vertical-align: middle;\n",
       "    }\n",
       "\n",
       "    .dataframe tbody tr th {\n",
       "        vertical-align: top;\n",
       "    }\n",
       "\n",
       "    .dataframe thead th {\n",
       "        text-align: right;\n",
       "    }\n",
       "</style>\n",
       "<table border=\"1\" class=\"dataframe\">\n",
       "  <thead>\n",
       "    <tr style=\"text-align: right;\">\n",
       "      <th></th>\n",
       "      <th>tweetid</th>\n",
       "      <th>user_screen_name</th>\n",
       "      <th>user_reported_location</th>\n",
       "      <th>user_profile_description</th>\n",
       "      <th>follower_count</th>\n",
       "      <th>following_count</th>\n",
       "      <th>follower-to-following_ratio</th>\n",
       "      <th>account_creation_date</th>\n",
       "      <th>year_of_account_creation</th>\n",
       "      <th>month_of_account_creation</th>\n",
       "      <th>tweet_time</th>\n",
       "      <th>tweet_year</th>\n",
       "      <th>tweet_month</th>\n",
       "      <th>tweet_day</th>\n",
       "      <th>content</th>\n",
       "      <th>links</th>\n",
       "      <th>upper</th>\n",
       "      <th>average_num_of_words</th>\n",
       "      <th>bot_or_not</th>\n",
       "    </tr>\n",
       "  </thead>\n",
       "  <tbody>\n",
       "    <tr>\n",
       "      <th>0</th>\n",
       "      <td>638180408731893761</td>\n",
       "      <td>NewOrleansON</td>\n",
       "      <td>New Orleans, LA</td>\n",
       "      <td>Breaking news, weather, traffic and more for N...</td>\n",
       "      <td>35988</td>\n",
       "      <td>11010</td>\n",
       "      <td>3.268665</td>\n",
       "      <td>2014-05-05 00:00:00</td>\n",
       "      <td>2014</td>\n",
       "      <td>5</td>\n",
       "      <td>2015-08-31 02:44:00</td>\n",
       "      <td>2015</td>\n",
       "      <td>8</td>\n",
       "      <td>31</td>\n",
       "      <td>New Orleans Saints' Sean Payton says penalty o...</td>\n",
       "      <td>0</td>\n",
       "      <td>0</td>\n",
       "      <td>4.500000</td>\n",
       "      <td>1</td>\n",
       "    </tr>\n",
       "    <tr>\n",
       "      <th>1</th>\n",
       "      <td>892656081238990849</td>\n",
       "      <td>TodayNYCity</td>\n",
       "      <td>New York, NY</td>\n",
       "      <td>New York City's local news on Twitter. Breakin...</td>\n",
       "      <td>66980</td>\n",
       "      <td>10500</td>\n",
       "      <td>6.379048</td>\n",
       "      <td>2014-08-27 00:00:00</td>\n",
       "      <td>2014</td>\n",
       "      <td>8</td>\n",
       "      <td>2017-08-02 07:59:00</td>\n",
       "      <td>2017</td>\n",
       "      <td>8</td>\n",
       "      <td>2</td>\n",
       "      <td>Suicide suspected in death of Brooklyn singer ...</td>\n",
       "      <td>2</td>\n",
       "      <td>0</td>\n",
       "      <td>8.083333</td>\n",
       "      <td>1</td>\n",
       "    </tr>\n",
       "    <tr>\n",
       "      <th>2</th>\n",
       "      <td>722669578220908546</td>\n",
       "      <td>Seattle_Post</td>\n",
       "      <td>Seattle, WA</td>\n",
       "      <td>Be the first to know Seattle's local news. Pol...</td>\n",
       "      <td>25263</td>\n",
       "      <td>10975</td>\n",
       "      <td>2.301868</td>\n",
       "      <td>2014-06-15 00:00:00</td>\n",
       "      <td>2014</td>\n",
       "      <td>6</td>\n",
       "      <td>2016-04-20 06:13:00</td>\n",
       "      <td>2016</td>\n",
       "      <td>4</td>\n",
       "      <td>20</td>\n",
       "      <td>Comedian Tracy Morgan scraps planned Mississip...</td>\n",
       "      <td>1</td>\n",
       "      <td>0</td>\n",
       "      <td>10.111111</td>\n",
       "      <td>1</td>\n",
       "    </tr>\n",
       "    <tr>\n",
       "      <th>3</th>\n",
       "      <td>613089385014128640</td>\n",
       "      <td>Seattle_Post</td>\n",
       "      <td>Seattle, WA</td>\n",
       "      <td>Be the first to know Seattle's local news. Pol...</td>\n",
       "      <td>25263</td>\n",
       "      <td>10975</td>\n",
       "      <td>2.301868</td>\n",
       "      <td>2014-06-15 00:00:00</td>\n",
       "      <td>2014</td>\n",
       "      <td>6</td>\n",
       "      <td>2015-06-22 21:01:00</td>\n",
       "      <td>2015</td>\n",
       "      <td>6</td>\n",
       "      <td>22</td>\n",
       "      <td>Maryland governor says he has cancer of lymph ...</td>\n",
       "      <td>0</td>\n",
       "      <td>0</td>\n",
       "      <td>4.900000</td>\n",
       "      <td>1</td>\n",
       "    </tr>\n",
       "    <tr>\n",
       "      <th>4</th>\n",
       "      <td>619873759940489216</td>\n",
       "      <td>AndyHashtagger</td>\n",
       "      <td>I AM A CITIZEN OF THE UNIVERSE</td>\n",
       "      <td>#Hashtag warrior | I follow back | Bacon is my...</td>\n",
       "      <td>22026</td>\n",
       "      <td>12966</td>\n",
       "      <td>1.698751</td>\n",
       "      <td>2014-10-26 00:00:00</td>\n",
       "      <td>2014</td>\n",
       "      <td>10</td>\n",
       "      <td>2015-07-11 14:19:00</td>\n",
       "      <td>2015</td>\n",
       "      <td>7</td>\n",
       "      <td>11</td>\n",
       "      <td>@grosby81 Nice! http://t.co/7i7QK1vUJM</td>\n",
       "      <td>0</td>\n",
       "      <td>0</td>\n",
       "      <td>12.000000</td>\n",
       "      <td>1</td>\n",
       "    </tr>\n",
       "  </tbody>\n",
       "</table>\n",
       "</div>"
      ],
      "text/plain": [
       "              tweetid user_screen_name          user_reported_location  \\\n",
       "0  638180408731893761     NewOrleansON                 New Orleans, LA   \n",
       "1  892656081238990849      TodayNYCity                    New York, NY   \n",
       "2  722669578220908546     Seattle_Post                     Seattle, WA   \n",
       "3  613089385014128640     Seattle_Post                     Seattle, WA   \n",
       "4  619873759940489216   AndyHashtagger  I AM A CITIZEN OF THE UNIVERSE   \n",
       "\n",
       "                            user_profile_description  follower_count  \\\n",
       "0  Breaking news, weather, traffic and more for N...           35988   \n",
       "1  New York City's local news on Twitter. Breakin...           66980   \n",
       "2  Be the first to know Seattle's local news. Pol...           25263   \n",
       "3  Be the first to know Seattle's local news. Pol...           25263   \n",
       "4  #Hashtag warrior | I follow back | Bacon is my...           22026   \n",
       "\n",
       "   following_count  follower-to-following_ratio account_creation_date  \\\n",
       "0            11010                     3.268665   2014-05-05 00:00:00   \n",
       "1            10500                     6.379048   2014-08-27 00:00:00   \n",
       "2            10975                     2.301868   2014-06-15 00:00:00   \n",
       "3            10975                     2.301868   2014-06-15 00:00:00   \n",
       "4            12966                     1.698751   2014-10-26 00:00:00   \n",
       "\n",
       "   year_of_account_creation  month_of_account_creation           tweet_time  \\\n",
       "0                      2014                          5  2015-08-31 02:44:00   \n",
       "1                      2014                          8  2017-08-02 07:59:00   \n",
       "2                      2014                          6  2016-04-20 06:13:00   \n",
       "3                      2014                          6  2015-06-22 21:01:00   \n",
       "4                      2014                         10  2015-07-11 14:19:00   \n",
       "\n",
       "   tweet_year  tweet_month  tweet_day  \\\n",
       "0        2015            8         31   \n",
       "1        2017            8          2   \n",
       "2        2016            4         20   \n",
       "3        2015            6         22   \n",
       "4        2015            7         11   \n",
       "\n",
       "                                             content  links  upper  \\\n",
       "0  New Orleans Saints' Sean Payton says penalty o...      0      0   \n",
       "1  Suicide suspected in death of Brooklyn singer ...      2      0   \n",
       "2  Comedian Tracy Morgan scraps planned Mississip...      1      0   \n",
       "3  Maryland governor says he has cancer of lymph ...      0      0   \n",
       "4             @grosby81 Nice! http://t.co/7i7QK1vUJM      0      0   \n",
       "\n",
       "   average_num_of_words  bot_or_not  \n",
       "0              4.500000           1  \n",
       "1              8.083333           1  \n",
       "2             10.111111           1  \n",
       "3              4.900000           1  \n",
       "4             12.000000           1  "
      ]
     },
     "execution_count": 2,
     "metadata": {},
     "output_type": "execute_result"
    }
   ],
   "source": [
    "data.head()"
   ]
  },
  {
   "cell_type": "markdown",
   "metadata": {},
   "source": [
    "### Exercise 1: Character Count\n",
    "Step 1: Select the 'content' column from the dataset as a pandas series  \n",
    "Step 2: Use Python's .apply() function to compute the length of each 'content' and store them in a new pandas column called 'char_count'  \n",
    "Step 3: Print the average character count of the 'char_count' column.  "
   ]
  },
  {
   "cell_type": "code",
   "execution_count": null,
   "metadata": {},
   "outputs": [],
   "source": [
    "# Create a feature char_count\n",
    "data['char_count'] = data['content'].apply(#TODO)\n",
    "\n",
    "# Print the average character count\n",
    "#TODO"
   ]
  },
  {
   "cell_type": "markdown",
   "metadata": {},
   "source": [
    "### Exercise 2: Intro to one-hot encoding\n",
    "Step 1: Choose a string from data's 'content' column as you like.  \n",
    "Step 2: Using .split() function, split the string whereever there is a space. You should get a list.   \n",
    "Step 3: Using pandas's .get_dummies() function, do one-hot encoding over the list you have.  "
   ]
  },
  {
   "cell_type": "code",
   "execution_count": null,
   "metadata": {},
   "outputs": [],
   "source": [
    "x = #TODO"
   ]
  },
  {
   "cell_type": "code",
   "execution_count": null,
   "metadata": {},
   "outputs": [],
   "source": [
    "y = pd.get_dummies(#TODO)\n",
    "y"
   ]
  },
  {
   "cell_type": "markdown",
   "metadata": {},
   "source": [
    "### Exercise 3: Counting and plotting special characters\n",
    "Step 1: Read and understand the count_hashtags function below.  \n",
    "Step 2: Follow the steps in the provided function, create your own function called 'count_mentions'.  \n",
    "Step 3: Implement your function. It should count the number of '@' characters and plot the according graph.  "
   ]
  },
  {
   "cell_type": "code",
   "execution_count": 3,
   "metadata": {},
   "outputs": [
    {
     "data": {
      "image/png": "[encoded data removed]",
      "text/plain": [
       "<Figure size 432x288 with 1 Axes>"
      ]
     },
     "metadata": {
      "needs_background": "light"
     },
     "output_type": "display_data"
    }
   ],
   "source": [
    "# Function that returns numner of hashtags in a string\n",
    "def count_hashtags(string):\n",
    "    # Split the string into words\n",
    "    words = string.split()\n",
    "\n",
    "    # Create a list of words that are hashtags\n",
    "    hashtags = [word for word in words if word.startswith('#')]\n",
    "\n",
    "    # Return number of hashtags\n",
    "    return(len(hashtags))\n",
    "\n",
    "# Create a feature hashtag_count and display distribution\n",
    "data['hashtag_count'] = data['content'].apply(count_hashtags)\n",
    "data['hashtag_count'].hist()\n",
    "plt.title('Hashtag count distribution')\n",
    "plt.show()"
   ]
  },
  {
   "cell_type": "code",
   "execution_count": null,
   "metadata": {},
   "outputs": [],
   "source": [
    "def count_mentions(string):\n",
    "    # Your Code Here:\n",
    "\n",
    "\n"
   ]
  },
  {
   "cell_type": "markdown",
   "metadata": {},
   "source": [
    "### (Optional) Exercise 4: Regex Practice\n",
    "Step 1: Select the 5th entry of data['content']  \n",
    "Step 2: Write a regex pattern that matches '.!?'  \n",
    "Step 3: Split the string with your pattern  "
   ]
  },
  {
   "cell_type": "code",
   "execution_count": null,
   "metadata": {},
   "outputs": [],
   "source": [
    "x = #TODO\n",
    "pattern = #TODO\n",
    "print(re.split(pattern, x))"
   ]
  },
  {
   "cell_type": "markdown",
   "metadata": {},
   "source": [
    "### Exercise 5: Intro to tokenization\n",
    "Step 1: select any entry of the 'content' column you prefer.  \n",
    "Step 2: use the imported word_tokenize() function, tokenize the string.  \n",
    "Step 3: print unique tokens result.  "
   ]
  },
  {
   "cell_type": "code",
   "execution_count": null,
   "metadata": {},
   "outputs": [],
   "source": [
    "from nltk.tokenize import word_tokenize\n",
    "\n",
    "#Your Code Here"
   ]
  },
  {
   "cell_type": "markdown",
   "metadata": {},
   "source": [
    "### Exercise 6: Vectorizers\n",
    "Step 1: Use sklearn's train_test_split function, create your own train and test set with the following parameters:\n",
    " - X: your data, basically the 'content' column of the data\n",
    " - y: your labels, the bot_or_not column\n",
    " - test_size: 0.33\n",
    " - random_state: 53  \n",
    " \n",
    " \n",
    "Step 2: Initialize a CountVectorizer object, parameter: stop_words='english'.  \n",
    "Step 3: fit and transform X_train.values using your vectorizer, this will be your training data.  \n",
    "Step 4: transform X_test.values as well.  \n",
    "Step 5: print some features.  \n",
    "(Optional) Step 6: Do the same thing, this time with TfidfVectorizer"
   ]
  },
  {
   "cell_type": "code",
   "execution_count": null,
   "metadata": {},
   "outputs": [],
   "source": [
    "from sklearn.feature_extraction.text import CountVectorizer \n",
    "from sklearn.model_selection import train_test_split\n",
    "\n",
    "X_train, X_test, y_train, y_test = #TODO"
   ]
  },
  {
   "cell_type": "code",
   "execution_count": null,
   "metadata": {},
   "outputs": [],
   "source": [
    "# Initialize a CountVectorizer object\n",
    "\n",
    "# Transform the training data using only the 'text' column values\n",
    "\n",
    "# Transform the test data using only the 'text' column values\n",
    "\n",
    "# Print the first 10 features of the count_vectorizer\n",
    "print(count_vectorizer.get_feature_names()[:10])"
   ]
  },
  {
   "cell_type": "code",
   "execution_count": null,
   "metadata": {},
   "outputs": [],
   "source": [
    "# Step 6\n",
    "from sklearn.feature_extraction.text import TfidfVectorizer \n",
    "#TODO"
   ]
  },
  {
   "cell_type": "markdown",
   "metadata": {},
   "source": [
    "### Exercise 7: Naive Text Classification with Naive Bayes\n",
    "Step 1: Fill in count_train using the vectorized X_train data you got from 6.  \n",
    "Step 2: Complete the code block, print the values you get.  \n",
    "(Optional) Step 3: Do the same thing, this time using the TFIDF data from 6."
   ]
  },
  {
   "cell_type": "code",
   "execution_count": null,
   "metadata": {},
   "outputs": [],
   "source": [
    "from sklearn import metrics\n",
    "from sklearn.naive_bayes import MultinomialNB\n",
    "\n",
    "nb_classifier = MultinomialNB()\n",
    "\n",
    "count_train = #TODO: Your vectorized X_train\n",
    "count_test = #TODO: Your vectorized X_test\n",
    "\n",
    "nb_classifier.fit(count_train, y_train)\n",
    "\n",
    "pred = nb_classifier.predict(count_test)\n",
    "\n",
    "score = metrics.accuracy_score(y_test, pred)\n",
    "print(score)\n",
    "\n",
    "cm = metrics.confusion_matrix(y_test, pred, labels=[0,1])\n",
    "print(cm)"
   ]
  },
  {
   "cell_type": "markdown",
   "metadata": {},
   "source": [
    "### Congrats! Now you've sucessfully trained a classifier to identify Russian troll tweets with a decent accuracy!"
   ]
  },
  {
   "cell_type": "code",
   "execution_count": null,
   "metadata": {},
   "outputs": [],
   "source": []
  }
 ],
 "metadata": {
  "kernelspec": {
   "display_name": "Python 3",
   "language": "python",
   "name": "python3"
  },
  "language_info": {
   "codemirror_mode": {
    "name": "ipython",
    "version": 3
   },
   "file_extension": ".py",
   "mimetype": "text/x-python",
   "name": "python",
   "nbconvert_exporter": "python",
   "pygments_lexer": "ipython3",
   "version": "3.7.1"
  }
 },
 "nbformat": 4,
 "nbformat_minor": 2
}

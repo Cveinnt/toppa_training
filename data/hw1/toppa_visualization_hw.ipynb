{
 "cells": [
  {
   "cell_type": "markdown",
   "metadata": {},
   "source": [
    "# Toppa Data Visualization HW \n",
    "\n",
    "Software under MIT license - Vincent 2019.  \n",
    "Your name: "
   ]
  },
  {
   "cell_type": "code",
   "execution_count": null,
   "metadata": {},
   "outputs": [],
   "source": [
    "# Install required packages\n",
    "!pip install numpy, pandas, matplotlib\n",
    "\n",
    "import numpy as np\n",
    "import pandas as pd\n",
    "import matplotlib\n",
    "import matplotlib.pyplot as plt\n",
    "from datetime import datetime\n",
    "\n",
    "df = pd.read_csv('data.csv')"
   ]
  },
  {
   "cell_type": "markdown",
   "metadata": {},
   "source": [
    "## Display the first 10 columns of the dataframe"
   ]
  },
  {
   "cell_type": "code",
   "execution_count": null,
   "metadata": {},
   "outputs": [],
   "source": [
    "# Your Code Here\n",
    "df.head()"
   ]
  },
  {
   "cell_type": "markdown",
   "metadata": {},
   "source": [
    "## Dropping unwanted columns (Preprocessing)\n",
    "\n",
    "Drop the columns named 'Soft Bounces', 'Hard Bounces', 'Total Bounces', 'Unnamed: 0', and 'Title'."
   ]
  },
  {
   "cell_type": "code",
   "execution_count": null,
   "metadata": {},
   "outputs": [],
   "source": [
    "# Your Code Here\n",
    "\n",
    "#Drop the first column\n",
    "df = df.drop(df.columns[[0]], axis=1)\n",
    "#Drop column by name\n",
    "df = df.drop(columns='Title')"
   ]
  },
  {
   "cell_type": "code",
   "execution_count": null,
   "metadata": {},
   "outputs": [],
   "source": [
    "df.head()"
   ]
  },
  {
   "cell_type": "markdown",
   "metadata": {},
   "source": [
    "## Basic Data Visualization\n",
    "Plot the growth of click rate over time.  \n",
    "Step 1: Preprocess 'Click Rate' (Convert from string to float).  "
   ]
  },
  {
   "cell_type": "code",
   "execution_count": null,
   "metadata": {},
   "outputs": [],
   "source": [
    "# Your Code Here"
   ]
  },
  {
   "cell_type": "markdown",
   "metadata": {},
   "source": [
    "Step 2: Plot the growth of click rate over time (Preferably Line and Bar charts in one graph) "
   ]
  },
  {
   "cell_type": "code",
   "execution_count": null,
   "metadata": {},
   "outputs": [],
   "source": [
    "fig, ax = plt.subplots(1)\n",
    "# Your Code Here\n",
    "\n",
    "fig.show()"
   ]
  },
  {
   "cell_type": "markdown",
   "metadata": {},
   "source": [
    "## Optional: Converting Dates\n",
    "Convert the dates from string to the format 2019-09-01 (datetime).\n",
    "\n",
    "#### A Useful Cheatsheet for strptime\n",
    "Code\tMeaning\tExample  \n",
    "%A\tWeekday as locale’s full name.\tWednesday  \n",
    "%a\tWeekday as locale’s abbreviated name.\tWed  \n",
    "%B\tMonth as locale’s full name.\tJune  \n",
    "%d\tDay of the month.\t06  \n",
    "%M  Minute  \n",
    "%I  Hour, in 12 hour format  \n",
    "%m\tMonth as a number.\t6  \n",
    "%Y\tFour-digit year.\t2018  \n",
    "%y\tTwo-digit year.\t18  "
   ]
  },
  {
   "cell_type": "code",
   "execution_count": null,
   "metadata": {},
   "outputs": [],
   "source": [
    "# Your Code Here"
   ]
  },
  {
   "cell_type": "markdown",
   "metadata": {},
   "source": [
    "## Correlation Analysis: Unique Click & Unique Opens\n",
    "Perform OLS and RR on the Unique Clicks and Unique Opens.  \n",
    "Step 1: Preprocess the data and check for outliers.  \n",
    "Step 2: Plot a scatter plot with x = unique opens, y = unique clicks.  \n",
    "Step 3: Run regression on the data."
   ]
  },
  {
   "cell_type": "code",
   "execution_count": null,
   "metadata": {},
   "outputs": [],
   "source": [
    "# Your Code Here\n",
    "# Preprocess and plot the scatter plots.\n",
    "\n",
    "X = # preprocessed unique opens\n",
    "y = # preprocessed unique clicks"
   ]
  },
  {
   "cell_type": "code",
   "execution_count": null,
   "metadata": {},
   "outputs": [],
   "source": [
    "# The regression function is given here\n",
    "# You are welcome to change it as you like, just remember to leave comments for clarifications\n",
    "\n",
    "# Install scikit-learn\n",
    "!pip install sklearn\n",
    "from sklearn import linear_model\n",
    "from sklearn.metrics import mean_squared_error, r2_score\n",
    "\n",
    "def regression(X,y,a=1):\n",
    "    ols = linear_model.LinearRegression()\n",
    "    ridge = linear_model.Ridge(alpha=a)\n",
    "\n",
    "    model_ols = ols.fit(X, y)\n",
    "    model_ridge = ridge.fit(X, y)\n",
    "\n",
    "    ols_pred = model_ols.predict(X)\n",
    "    ridge_pred = model_ridge.predict(X)\n",
    "\n",
    "    # The coefficients\n",
    "    print('OLS Coefficients: \\n', model_ols.coef_)\n",
    "    print('Ridge Coefficients: \\n', model_ridge.coef_)\n",
    "\n",
    "    # The mean squared error\n",
    "    print(\"OLS Mean squared error: %.2f\" % mean_squared_error(y, ols_pred))\n",
    "    print(\"Ridge Mean squared error: %.2f\" % mean_squared_error(y, ridge_pred))\n",
    "\n",
    "    # Explained variance score: 1 is perfect prediction\n",
    "    print('OLD Variance score: %.2f' % r2_score(y, ols_pred))\n",
    "    print('Ridge Variance score: %.2f' % r2_score(y, ridge_pred))\n",
    "\n",
    "    # Plot outputs\n",
    "    plt.scatter(X, y,  color='black')\n",
    "    plt.plot(X, ols_pred, color='blue', linewidth=3)\n",
    "    plt.plot(X, ridge_pred, color='red', linewidth=3)\n",
    "    plt.legend([\"OLS\", \"Ridge\"]);\n",
    "\n",
    "    plt.show()"
   ]
  },
  {
   "cell_type": "markdown",
   "metadata": {},
   "source": [
    "Step 4: Play around with alpha value for ridge regression.\n",
    "Try to find a value of alpha that minizes the mean square error."
   ]
  },
  {
   "cell_type": "code",
   "execution_count": null,
   "metadata": {},
   "outputs": [],
   "source": [
    "a = # experiment with different values\n",
    "regression(X,y,a)"
   ]
  },
  {
   "cell_type": "code",
   "execution_count": null,
   "metadata": {},
   "outputs": [],
   "source": []
  }
 ],
 "metadata": {
  "kernelspec": {
   "display_name": "Python 3",
   "language": "python",
   "name": "python3"
  },
  "language_info": {
   "codemirror_mode": {
    "name": "ipython",
    "version": 3
   },
   "file_extension": ".py",
   "mimetype": "text/x-python",
   "name": "python",
   "nbconvert_exporter": "python",
   "pygments_lexer": "ipython3",
   "version": "3.7.1"
  }
 },
 "nbformat": 4,
 "nbformat_minor": 2
}
